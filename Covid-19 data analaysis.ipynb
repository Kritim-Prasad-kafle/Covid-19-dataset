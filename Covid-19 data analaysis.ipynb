{
  "nbformat": 4,
  "nbformat_minor": 0,
  "metadata": {
    "colab": {
      "name": "Untitled24.ipynb",
      "provenance": []
    },
    "kernelspec": {
      "name": "python3",
      "display_name": "Python 3"
    },
    "language_info": {
      "name": "python"
    }
  },
  "cells": [
    {
      "cell_type": "code",
      "metadata": {
        "id": "9GtnvIfJrR84"
      },
      "source": [
        "import numpy as np\n",
        "import pandas as pd"
      ],
      "execution_count": 1,
      "outputs": []
    },
    {
      "cell_type": "code",
      "metadata": {
        "id": "ojp26gvArWCj"
      },
      "source": [
        "df = pd.read_csv('https://raw.githubusercontent.com/owid/covid-19-data/master/public/data/jhu/full_data.csv')"
      ],
      "execution_count": 2,
      "outputs": []
    },
    {
      "cell_type": "code",
      "metadata": {
        "colab": {
          "base_uri": "https://localhost:8080/",
          "height": 205
        },
        "id": "-b6jzbiqrgAp",
        "outputId": "b5fa3218-d838-46b4-fa92-153604c5691c"
      },
      "source": [
        "df.head()"
      ],
      "execution_count": 3,
      "outputs": [
        {
          "output_type": "execute_result",
          "data": {
            "text/html": [
              "<div>\n",
              "<style scoped>\n",
              "    .dataframe tbody tr th:only-of-type {\n",
              "        vertical-align: middle;\n",
              "    }\n",
              "\n",
              "    .dataframe tbody tr th {\n",
              "        vertical-align: top;\n",
              "    }\n",
              "\n",
              "    .dataframe thead th {\n",
              "        text-align: right;\n",
              "    }\n",
              "</style>\n",
              "<table border=\"1\" class=\"dataframe\">\n",
              "  <thead>\n",
              "    <tr style=\"text-align: right;\">\n",
              "      <th></th>\n",
              "      <th>date</th>\n",
              "      <th>location</th>\n",
              "      <th>new_cases</th>\n",
              "      <th>new_deaths</th>\n",
              "      <th>total_cases</th>\n",
              "      <th>total_deaths</th>\n",
              "      <th>weekly_cases</th>\n",
              "      <th>weekly_deaths</th>\n",
              "      <th>biweekly_cases</th>\n",
              "      <th>biweekly_deaths</th>\n",
              "    </tr>\n",
              "  </thead>\n",
              "  <tbody>\n",
              "    <tr>\n",
              "      <th>0</th>\n",
              "      <td>2021-06-19</td>\n",
              "      <td>2020 Summer Olympics athletes &amp; staff</td>\n",
              "      <td>1.0</td>\n",
              "      <td>NaN</td>\n",
              "      <td>1.0</td>\n",
              "      <td>NaN</td>\n",
              "      <td>NaN</td>\n",
              "      <td>NaN</td>\n",
              "      <td>NaN</td>\n",
              "      <td>NaN</td>\n",
              "    </tr>\n",
              "    <tr>\n",
              "      <th>1</th>\n",
              "      <td>2021-06-20</td>\n",
              "      <td>2020 Summer Olympics athletes &amp; staff</td>\n",
              "      <td>0.0</td>\n",
              "      <td>NaN</td>\n",
              "      <td>1.0</td>\n",
              "      <td>NaN</td>\n",
              "      <td>NaN</td>\n",
              "      <td>NaN</td>\n",
              "      <td>NaN</td>\n",
              "      <td>NaN</td>\n",
              "    </tr>\n",
              "    <tr>\n",
              "      <th>2</th>\n",
              "      <td>2021-06-21</td>\n",
              "      <td>2020 Summer Olympics athletes &amp; staff</td>\n",
              "      <td>0.0</td>\n",
              "      <td>NaN</td>\n",
              "      <td>1.0</td>\n",
              "      <td>NaN</td>\n",
              "      <td>NaN</td>\n",
              "      <td>NaN</td>\n",
              "      <td>NaN</td>\n",
              "      <td>NaN</td>\n",
              "    </tr>\n",
              "    <tr>\n",
              "      <th>3</th>\n",
              "      <td>2021-06-22</td>\n",
              "      <td>2020 Summer Olympics athletes &amp; staff</td>\n",
              "      <td>0.0</td>\n",
              "      <td>NaN</td>\n",
              "      <td>1.0</td>\n",
              "      <td>NaN</td>\n",
              "      <td>NaN</td>\n",
              "      <td>NaN</td>\n",
              "      <td>NaN</td>\n",
              "      <td>NaN</td>\n",
              "    </tr>\n",
              "    <tr>\n",
              "      <th>4</th>\n",
              "      <td>2021-06-23</td>\n",
              "      <td>2020 Summer Olympics athletes &amp; staff</td>\n",
              "      <td>0.0</td>\n",
              "      <td>NaN</td>\n",
              "      <td>1.0</td>\n",
              "      <td>NaN</td>\n",
              "      <td>NaN</td>\n",
              "      <td>NaN</td>\n",
              "      <td>NaN</td>\n",
              "      <td>NaN</td>\n",
              "    </tr>\n",
              "  </tbody>\n",
              "</table>\n",
              "</div>"
            ],
            "text/plain": [
              "         date  ... biweekly_deaths\n",
              "0  2021-06-19  ...             NaN\n",
              "1  2021-06-20  ...             NaN\n",
              "2  2021-06-21  ...             NaN\n",
              "3  2021-06-22  ...             NaN\n",
              "4  2021-06-23  ...             NaN\n",
              "\n",
              "[5 rows x 10 columns]"
            ]
          },
          "metadata": {
            "tags": []
          },
          "execution_count": 3
        }
      ]
    },
    {
      "cell_type": "code",
      "metadata": {
        "colab": {
          "base_uri": "https://localhost:8080/"
        },
        "id": "wiv7igcArhhp",
        "outputId": "e7d70129-9364-44cc-c610-38e009f31f9f"
      },
      "source": [
        "df.shape"
      ],
      "execution_count": 4,
      "outputs": [
        {
          "output_type": "execute_result",
          "data": {
            "text/plain": [
              "(101859, 10)"
            ]
          },
          "metadata": {
            "tags": []
          },
          "execution_count": 4
        }
      ]
    },
    {
      "cell_type": "code",
      "metadata": {
        "colab": {
          "base_uri": "https://localhost:8080/"
        },
        "id": "80rK6Kyjrpb5",
        "outputId": "56dcf202-8521-43c3-dec2-5554fcfb1a84"
      },
      "source": [
        "df.columns"
      ],
      "execution_count": 5,
      "outputs": [
        {
          "output_type": "execute_result",
          "data": {
            "text/plain": [
              "Index(['date', 'location', 'new_cases', 'new_deaths', 'total_cases',\n",
              "       'total_deaths', 'weekly_cases', 'weekly_deaths', 'biweekly_cases',\n",
              "       'biweekly_deaths'],\n",
              "      dtype='object')"
            ]
          },
          "metadata": {
            "tags": []
          },
          "execution_count": 5
        }
      ]
    },
    {
      "cell_type": "code",
      "metadata": {
        "colab": {
          "base_uri": "https://localhost:8080/"
        },
        "id": "D8DHCtwbrrMO",
        "outputId": "baac43e9-1de7-4dbf-92e5-a10d674228a8"
      },
      "source": [
        "df.isnull().sum()"
      ],
      "execution_count": 6,
      "outputs": [
        {
          "output_type": "execute_result",
          "data": {
            "text/plain": [
              "date                   0\n",
              "location               0\n",
              "new_cases             10\n",
              "new_deaths         10229\n",
              "total_cases            7\n",
              "total_deaths       10384\n",
              "weekly_cases        1025\n",
              "weekly_deaths       1025\n",
              "biweekly_cases      2439\n",
              "biweekly_deaths     2439\n",
              "dtype: int64"
            ]
          },
          "metadata": {
            "tags": []
          },
          "execution_count": 6
        }
      ]
    },
    {
      "cell_type": "code",
      "metadata": {
        "colab": {
          "base_uri": "https://localhost:8080/"
        },
        "id": "-P3VQkrVrtxs",
        "outputId": "9eedf4cc-6995-4d7e-88aa-30d5f082e59f"
      },
      "source": [
        "df.count()"
      ],
      "execution_count": 7,
      "outputs": [
        {
          "output_type": "execute_result",
          "data": {
            "text/plain": [
              "date               101859\n",
              "location           101859\n",
              "new_cases          101849\n",
              "new_deaths          91630\n",
              "total_cases        101852\n",
              "total_deaths        91475\n",
              "weekly_cases       100834\n",
              "weekly_deaths      100834\n",
              "biweekly_cases      99420\n",
              "biweekly_deaths     99420\n",
              "dtype: int64"
            ]
          },
          "metadata": {
            "tags": []
          },
          "execution_count": 7
        }
      ]
    },
    {
      "cell_type": "code",
      "metadata": {
        "id": "QW2m8Ec33HaZ"
      },
      "source": [
        "df = df.dropna()"
      ],
      "execution_count": 104,
      "outputs": []
    },
    {
      "cell_type": "code",
      "metadata": {
        "colab": {
          "base_uri": "https://localhost:8080/",
          "height": 705
        },
        "id": "-o6ijckasLeH",
        "outputId": "becb35bb-8976-400f-ea5b-2f54481782e0"
      },
      "source": [
        "df.groupby('location').sum().head(20)"
      ],
      "execution_count": 46,
      "outputs": [
        {
          "output_type": "execute_result",
          "data": {
            "text/html": [
              "<div>\n",
              "<style scoped>\n",
              "    .dataframe tbody tr th:only-of-type {\n",
              "        vertical-align: middle;\n",
              "    }\n",
              "\n",
              "    .dataframe tbody tr th {\n",
              "        vertical-align: top;\n",
              "    }\n",
              "\n",
              "    .dataframe thead th {\n",
              "        text-align: right;\n",
              "    }\n",
              "</style>\n",
              "<table border=\"1\" class=\"dataframe\">\n",
              "  <thead>\n",
              "    <tr style=\"text-align: right;\">\n",
              "      <th></th>\n",
              "      <th>new_cases</th>\n",
              "      <th>new_deaths</th>\n",
              "      <th>total_cases</th>\n",
              "      <th>total_deaths</th>\n",
              "      <th>weekly_cases</th>\n",
              "      <th>weekly_deaths</th>\n",
              "      <th>biweekly_cases</th>\n",
              "      <th>biweekly_deaths</th>\n",
              "    </tr>\n",
              "    <tr>\n",
              "      <th>location</th>\n",
              "      <th></th>\n",
              "      <th></th>\n",
              "      <th></th>\n",
              "      <th></th>\n",
              "      <th></th>\n",
              "      <th></th>\n",
              "      <th></th>\n",
              "      <th></th>\n",
              "    </tr>\n",
              "  </thead>\n",
              "  <tbody>\n",
              "    <tr>\n",
              "      <th>2020 Summer Olympics athletes &amp; staff</th>\n",
              "      <td>198.0</td>\n",
              "      <td>0.0</td>\n",
              "      <td>1.560000e+03</td>\n",
              "      <td>0.0</td>\n",
              "      <td>983.0</td>\n",
              "      <td>0.0</td>\n",
              "      <td>1344.0</td>\n",
              "      <td>0.0</td>\n",
              "    </tr>\n",
              "    <tr>\n",
              "      <th>Afghanistan</th>\n",
              "      <td>146523.0</td>\n",
              "      <td>6677.0</td>\n",
              "      <td>2.408134e+07</td>\n",
              "      <td>965161.0</td>\n",
              "      <td>1014237.0</td>\n",
              "      <td>45575.0</td>\n",
              "      <td>2002865.0</td>\n",
              "      <td>88968.0</td>\n",
              "    </tr>\n",
              "    <tr>\n",
              "      <th>Africa</th>\n",
              "      <td>6673032.0</td>\n",
              "      <td>169216.0</td>\n",
              "      <td>1.238324e+09</td>\n",
              "      <td>31745758.0</td>\n",
              "      <td>45806826.0</td>\n",
              "      <td>1163362.0</td>\n",
              "      <td>89892112.0</td>\n",
              "      <td>2281365.0</td>\n",
              "    </tr>\n",
              "    <tr>\n",
              "      <th>Albania</th>\n",
              "      <td>133036.0</td>\n",
              "      <td>2457.0</td>\n",
              "      <td>2.798792e+07</td>\n",
              "      <td>528143.0</td>\n",
              "      <td>930448.0</td>\n",
              "      <td>17192.0</td>\n",
              "      <td>1859245.0</td>\n",
              "      <td>34374.0</td>\n",
              "    </tr>\n",
              "    <tr>\n",
              "      <th>Algeria</th>\n",
              "      <td>170189.0</td>\n",
              "      <td>4219.0</td>\n",
              "      <td>3.653570e+07</td>\n",
              "      <td>1066952.0</td>\n",
              "      <td>1157870.0</td>\n",
              "      <td>28873.0</td>\n",
              "      <td>2248373.0</td>\n",
              "      <td>56696.0</td>\n",
              "    </tr>\n",
              "    <tr>\n",
              "      <th>Andorra</th>\n",
              "      <td>14678.0</td>\n",
              "      <td>128.0</td>\n",
              "      <td>3.249567e+06</td>\n",
              "      <td>39975.0</td>\n",
              "      <td>102073.0</td>\n",
              "      <td>890.0</td>\n",
              "      <td>202691.0</td>\n",
              "      <td>1779.0</td>\n",
              "    </tr>\n",
              "    <tr>\n",
              "      <th>Angola</th>\n",
              "      <td>42646.0</td>\n",
              "      <td>1008.0</td>\n",
              "      <td>7.161711e+06</td>\n",
              "      <td>171809.0</td>\n",
              "      <td>294914.0</td>\n",
              "      <td>6962.0</td>\n",
              "      <td>582617.0</td>\n",
              "      <td>13737.0</td>\n",
              "    </tr>\n",
              "    <tr>\n",
              "      <th>Antigua and Barbuda</th>\n",
              "      <td>1303.0</td>\n",
              "      <td>43.0</td>\n",
              "      <td>2.224490e+05</td>\n",
              "      <td>6670.0</td>\n",
              "      <td>9009.0</td>\n",
              "      <td>301.0</td>\n",
              "      <td>17913.0</td>\n",
              "      <td>595.0</td>\n",
              "    </tr>\n",
              "    <tr>\n",
              "      <th>Argentina</th>\n",
              "      <td>4919408.0</td>\n",
              "      <td>105586.0</td>\n",
              "      <td>7.788546e+08</td>\n",
              "      <td>17883959.0</td>\n",
              "      <td>34137951.0</td>\n",
              "      <td>731283.0</td>\n",
              "      <td>67636164.0</td>\n",
              "      <td>1447844.0</td>\n",
              "    </tr>\n",
              "    <tr>\n",
              "      <th>Armenia</th>\n",
              "      <td>229867.0</td>\n",
              "      <td>4608.0</td>\n",
              "      <td>5.651436e+07</td>\n",
              "      <td>1050922.0</td>\n",
              "      <td>1604265.0</td>\n",
              "      <td>32167.0</td>\n",
              "      <td>3198700.0</td>\n",
              "      <td>64160.0</td>\n",
              "    </tr>\n",
              "    <tr>\n",
              "      <th>Asia</th>\n",
              "      <td>60945476.0</td>\n",
              "      <td>891773.0</td>\n",
              "      <td>1.005560e+10</td>\n",
              "      <td>153500580.0</td>\n",
              "      <td>421138405.0</td>\n",
              "      <td>6150232.0</td>\n",
              "      <td>831210022.0</td>\n",
              "      <td>12105196.0</td>\n",
              "    </tr>\n",
              "    <tr>\n",
              "      <th>Australia</th>\n",
              "      <td>34130.0</td>\n",
              "      <td>924.0</td>\n",
              "      <td>1.137568e+07</td>\n",
              "      <td>324980.0</td>\n",
              "      <td>234475.0</td>\n",
              "      <td>6449.0</td>\n",
              "      <td>460452.0</td>\n",
              "      <td>12854.0</td>\n",
              "    </tr>\n",
              "    <tr>\n",
              "      <th>Austria</th>\n",
              "      <td>658518.0</td>\n",
              "      <td>10737.0</td>\n",
              "      <td>1.383145e+08</td>\n",
              "      <td>2341235.0</td>\n",
              "      <td>4599743.0</td>\n",
              "      <td>75142.0</td>\n",
              "      <td>9180476.0</td>\n",
              "      <td>150246.0</td>\n",
              "    </tr>\n",
              "    <tr>\n",
              "      <th>Azerbaijan</th>\n",
              "      <td>343216.0</td>\n",
              "      <td>5022.0</td>\n",
              "      <td>7.324444e+07</td>\n",
              "      <td>1013902.0</td>\n",
              "      <td>2390077.0</td>\n",
              "      <td>35083.0</td>\n",
              "      <td>4762036.0</td>\n",
              "      <td>70053.0</td>\n",
              "    </tr>\n",
              "    <tr>\n",
              "      <th>Bahamas</th>\n",
              "      <td>14677.0</td>\n",
              "      <td>286.0</td>\n",
              "      <td>2.932553e+06</td>\n",
              "      <td>61344.0</td>\n",
              "      <td>99736.0</td>\n",
              "      <td>1974.0</td>\n",
              "      <td>195016.0</td>\n",
              "      <td>3889.0</td>\n",
              "    </tr>\n",
              "    <tr>\n",
              "      <th>Bahrain</th>\n",
              "      <td>269080.0</td>\n",
              "      <td>1384.0</td>\n",
              "      <td>5.019252e+07</td>\n",
              "      <td>204386.0</td>\n",
              "      <td>1881085.0</td>\n",
              "      <td>9682.0</td>\n",
              "      <td>3757041.0</td>\n",
              "      <td>19345.0</td>\n",
              "    </tr>\n",
              "    <tr>\n",
              "      <th>Bangladesh</th>\n",
              "      <td>1240115.0</td>\n",
              "      <td>20467.0</td>\n",
              "      <td>2.205690e+08</td>\n",
              "      <td>3317343.0</td>\n",
              "      <td>8369893.0</td>\n",
              "      <td>138358.0</td>\n",
              "      <td>16235699.0</td>\n",
              "      <td>266403.0</td>\n",
              "    </tr>\n",
              "    <tr>\n",
              "      <th>Barbados</th>\n",
              "      <td>4379.0</td>\n",
              "      <td>48.0</td>\n",
              "      <td>7.308850e+05</td>\n",
              "      <td>9548.0</td>\n",
              "      <td>30484.0</td>\n",
              "      <td>336.0</td>\n",
              "      <td>60370.0</td>\n",
              "      <td>672.0</td>\n",
              "    </tr>\n",
              "    <tr>\n",
              "      <th>Belarus</th>\n",
              "      <td>445048.0</td>\n",
              "      <td>3445.0</td>\n",
              "      <td>9.138194e+07</td>\n",
              "      <td>683532.0</td>\n",
              "      <td>3095511.0</td>\n",
              "      <td>23898.0</td>\n",
              "      <td>6146903.0</td>\n",
              "      <td>47314.0</td>\n",
              "    </tr>\n",
              "    <tr>\n",
              "      <th>Belgium</th>\n",
              "      <td>1124715.0</td>\n",
              "      <td>25241.0</td>\n",
              "      <td>2.465029e+08</td>\n",
              "      <td>7851514.0</td>\n",
              "      <td>7832407.0</td>\n",
              "      <td>176605.0</td>\n",
              "      <td>15588106.0</td>\n",
              "      <td>353096.0</td>\n",
              "    </tr>\n",
              "  </tbody>\n",
              "</table>\n",
              "</div>"
            ],
            "text/plain": [
              "                                        new_cases  ...  biweekly_deaths\n",
              "location                                           ...                 \n",
              "2020 Summer Olympics athletes & staff       198.0  ...              0.0\n",
              "Afghanistan                              146523.0  ...          88968.0\n",
              "Africa                                  6673032.0  ...        2281365.0\n",
              "Albania                                  133036.0  ...          34374.0\n",
              "Algeria                                  170189.0  ...          56696.0\n",
              "Andorra                                   14678.0  ...           1779.0\n",
              "Angola                                    42646.0  ...          13737.0\n",
              "Antigua and Barbuda                        1303.0  ...            595.0\n",
              "Argentina                               4919408.0  ...        1447844.0\n",
              "Armenia                                  229867.0  ...          64160.0\n",
              "Asia                                   60945476.0  ...       12105196.0\n",
              "Australia                                 34130.0  ...          12854.0\n",
              "Austria                                  658518.0  ...         150246.0\n",
              "Azerbaijan                               343216.0  ...          70053.0\n",
              "Bahamas                                   14677.0  ...           3889.0\n",
              "Bahrain                                  269080.0  ...          19345.0\n",
              "Bangladesh                              1240115.0  ...         266403.0\n",
              "Barbados                                   4379.0  ...            672.0\n",
              "Belarus                                  445048.0  ...          47314.0\n",
              "Belgium                                 1124715.0  ...         353096.0\n",
              "\n",
              "[20 rows x 8 columns]"
            ]
          },
          "metadata": {
            "tags": []
          },
          "execution_count": 46
        }
      ]
    },
    {
      "cell_type": "markdown",
      "metadata": {
        "id": "pzyxCI3huasX"
      },
      "source": [
        "Country having most number of deaths :\n",
        "I found the Europe have the most number of deaths i.e. 259707161.0"
      ]
    },
    {
      "cell_type": "code",
      "metadata": {
        "colab": {
          "base_uri": "https://localhost:8080/"
        },
        "id": "8hWQS_i2tMLR",
        "outputId": "1122932b-b811-4252-e342-864fbcd33fa1"
      },
      "source": [
        "df.groupby('location')['total_deaths'].sum().sort_values(ascending = False).head(2)"
      ],
      "execution_count": 47,
      "outputs": [
        {
          "output_type": "execute_result",
          "data": {
            "text/plain": [
              "location\n",
              "World     890426416.0\n",
              "Europe    259707161.0\n",
              "Name: total_deaths, dtype: float64"
            ]
          },
          "metadata": {
            "tags": []
          },
          "execution_count": 47
        }
      ]
    },
    {
      "cell_type": "markdown",
      "metadata": {
        "id": "Y7JlA4i9vywH"
      },
      "source": [
        "Country having least number of deaths: I found the 8 countries with least number of deaths i.e.2020 Summer Olympics athletes & staff  \n",
        "\n",
        "1.  location\n",
        "2020 Summer Olympics athletes & staff      0.0,\n",
        "Kiribati                                   0.0,\n",
        "Marshall Islands                           0.0,\n",
        "Micronesia (country)                       0.0,\n",
        "Samoa                                      0.0,\n",
        "Solomon Islands                            0.0,\n",
        "Dominica                                   0.0,\n",
        "Vatican                                    0.0,\n",
        "\n",
        "\n"
      ]
    },
    {
      "cell_type": "code",
      "metadata": {
        "colab": {
          "base_uri": "https://localhost:8080/"
        },
        "id": "hbcO6HPWtrHM",
        "outputId": "c5f9b2d8-95d9-4460-bf05-9ed1c635a189"
      },
      "source": [
        "df.groupby('location')['total_deaths'].sum().sort_values(ascending = True).head(8)"
      ],
      "execution_count": 48,
      "outputs": [
        {
          "output_type": "execute_result",
          "data": {
            "text/plain": [
              "location\n",
              "2020 Summer Olympics athletes & staff    0.0\n",
              "Kiribati                                 0.0\n",
              "Marshall Islands                         0.0\n",
              "Micronesia (country)                     0.0\n",
              "Samoa                                    0.0\n",
              "Solomon Islands                          0.0\n",
              "Dominica                                 0.0\n",
              "Vatican                                  0.0\n",
              "Name: total_deaths, dtype: float64"
            ]
          },
          "metadata": {
            "tags": []
          },
          "execution_count": 48
        }
      ]
    },
    {
      "cell_type": "markdown",
      "metadata": {
        "id": "MJAjHacuwuyt"
      },
      "source": [
        "Country having highest number of cases : I found the Europe have the most number of cases i.e. 1.027319e+10."
      ]
    },
    {
      "cell_type": "code",
      "metadata": {
        "colab": {
          "base_uri": "https://localhost:8080/"
        },
        "id": "PVolNAs8uASq",
        "outputId": "dde6ee5f-2132-4562-bf02-62c497fe01e3"
      },
      "source": [
        "df.groupby('location')['total_cases'].sum().sort_values(ascending = False).head(2)"
      ],
      "execution_count": 49,
      "outputs": [
        {
          "output_type": "execute_result",
          "data": {
            "text/plain": [
              "location\n",
              "World     3.758027e+10\n",
              "Europe    1.027319e+10\n",
              "Name: total_cases, dtype: float64"
            ]
          },
          "metadata": {
            "tags": []
          },
          "execution_count": 49
        }
      ]
    },
    {
      "cell_type": "markdown",
      "metadata": {
        "id": "f9BV6Z9axSSM"
      },
      "source": [
        "Country having least number of cases: I found the Kiribati have the least number of cases i.e 145"
      ]
    },
    {
      "cell_type": "code",
      "metadata": {
        "colab": {
          "base_uri": "https://localhost:8080/"
        },
        "id": "GaNiEuIyutBQ",
        "outputId": "8a975c54-ec18-422a-a22a-ec8d1ba9e109"
      },
      "source": [
        "df.groupby('location')['total_cases'].sum().sort_values(ascending = True).head(1)\n"
      ],
      "execution_count": 50,
      "outputs": [
        {
          "output_type": "execute_result",
          "data": {
            "text/plain": [
              "location\n",
              "Kiribati    145.0\n",
              "Name: total_cases, dtype: float64"
            ]
          },
          "metadata": {
            "tags": []
          },
          "execution_count": 50
        }
      ]
    },
    {
      "cell_type": "markdown",
      "metadata": {
        "id": "yAS7KT6B0F4M"
      },
      "source": [
        "The total number of cases in India are 5101330295.0.\n"
      ]
    },
    {
      "cell_type": "code",
      "metadata": {
        "colab": {
          "base_uri": "https://localhost:8080/"
        },
        "id": "QdGMNY29ynhN",
        "outputId": "70557b93-670e-43ec-f9a8-312ebcda593e"
      },
      "source": [
        "df[df.location == 'India']['total_cases'].sum()"
      ],
      "execution_count": 51,
      "outputs": [
        {
          "output_type": "execute_result",
          "data": {
            "text/plain": [
              "5101330295.0"
            ]
          },
          "metadata": {
            "tags": []
          },
          "execution_count": 51
        }
      ]
    },
    {
      "cell_type": "markdown",
      "metadata": {
        "id": "8v1XzgmY0VPN"
      },
      "source": [
        "The total number of deaths in India are 68690310.0."
      ]
    },
    {
      "cell_type": "code",
      "metadata": {
        "colab": {
          "base_uri": "https://localhost:8080/"
        },
        "id": "HwfF0mk3zEK7",
        "outputId": "47e67a17-d55a-4a34-ef8e-f3b808696da0"
      },
      "source": [
        "df[df.location == 'India']['total_deaths'].sum()"
      ],
      "execution_count": 52,
      "outputs": [
        {
          "output_type": "execute_result",
          "data": {
            "text/plain": [
              "68690310.0"
            ]
          },
          "metadata": {
            "tags": []
          },
          "execution_count": 52
        }
      ]
    },
    {
      "cell_type": "code",
      "metadata": {
        "colab": {
          "base_uri": "https://localhost:8080/",
          "height": 205
        },
        "id": "aMPChSgT10f5",
        "outputId": "8fe2d589-667c-4b91-cd7d-616a4336161a"
      },
      "source": [
        "df.head()"
      ],
      "execution_count": 101,
      "outputs": [
        {
          "output_type": "execute_result",
          "data": {
            "text/html": [
              "<div>\n",
              "<style scoped>\n",
              "    .dataframe tbody tr th:only-of-type {\n",
              "        vertical-align: middle;\n",
              "    }\n",
              "\n",
              "    .dataframe tbody tr th {\n",
              "        vertical-align: top;\n",
              "    }\n",
              "\n",
              "    .dataframe thead th {\n",
              "        text-align: right;\n",
              "    }\n",
              "</style>\n",
              "<table border=\"1\" class=\"dataframe\">\n",
              "  <thead>\n",
              "    <tr style=\"text-align: right;\">\n",
              "      <th></th>\n",
              "      <th>date</th>\n",
              "      <th>location</th>\n",
              "      <th>new_cases</th>\n",
              "      <th>new_deaths</th>\n",
              "      <th>total_cases</th>\n",
              "      <th>total_deaths</th>\n",
              "      <th>weekly_cases</th>\n",
              "      <th>weekly_deaths</th>\n",
              "      <th>biweekly_cases</th>\n",
              "      <th>biweekly_deaths</th>\n",
              "    </tr>\n",
              "  </thead>\n",
              "  <tbody>\n",
              "    <tr>\n",
              "      <th>0</th>\n",
              "      <td>2021-06-19</td>\n",
              "      <td>2020 Summer Olympics athletes &amp; staff</td>\n",
              "      <td>1.0</td>\n",
              "      <td>NaN</td>\n",
              "      <td>1.0</td>\n",
              "      <td>NaN</td>\n",
              "      <td>NaN</td>\n",
              "      <td>NaN</td>\n",
              "      <td>NaN</td>\n",
              "      <td>NaN</td>\n",
              "    </tr>\n",
              "    <tr>\n",
              "      <th>1</th>\n",
              "      <td>2021-06-20</td>\n",
              "      <td>2020 Summer Olympics athletes &amp; staff</td>\n",
              "      <td>0.0</td>\n",
              "      <td>NaN</td>\n",
              "      <td>1.0</td>\n",
              "      <td>NaN</td>\n",
              "      <td>NaN</td>\n",
              "      <td>NaN</td>\n",
              "      <td>NaN</td>\n",
              "      <td>NaN</td>\n",
              "    </tr>\n",
              "    <tr>\n",
              "      <th>2</th>\n",
              "      <td>2021-06-21</td>\n",
              "      <td>2020 Summer Olympics athletes &amp; staff</td>\n",
              "      <td>0.0</td>\n",
              "      <td>NaN</td>\n",
              "      <td>1.0</td>\n",
              "      <td>NaN</td>\n",
              "      <td>NaN</td>\n",
              "      <td>NaN</td>\n",
              "      <td>NaN</td>\n",
              "      <td>NaN</td>\n",
              "    </tr>\n",
              "    <tr>\n",
              "      <th>3</th>\n",
              "      <td>2021-06-22</td>\n",
              "      <td>2020 Summer Olympics athletes &amp; staff</td>\n",
              "      <td>0.0</td>\n",
              "      <td>NaN</td>\n",
              "      <td>1.0</td>\n",
              "      <td>NaN</td>\n",
              "      <td>NaN</td>\n",
              "      <td>NaN</td>\n",
              "      <td>NaN</td>\n",
              "      <td>NaN</td>\n",
              "    </tr>\n",
              "    <tr>\n",
              "      <th>4</th>\n",
              "      <td>2021-06-23</td>\n",
              "      <td>2020 Summer Olympics athletes &amp; staff</td>\n",
              "      <td>0.0</td>\n",
              "      <td>NaN</td>\n",
              "      <td>1.0</td>\n",
              "      <td>NaN</td>\n",
              "      <td>NaN</td>\n",
              "      <td>NaN</td>\n",
              "      <td>NaN</td>\n",
              "      <td>NaN</td>\n",
              "    </tr>\n",
              "  </tbody>\n",
              "</table>\n",
              "</div>"
            ],
            "text/plain": [
              "         date  ... biweekly_deaths\n",
              "0  2021-06-19  ...             NaN\n",
              "1  2021-06-20  ...             NaN\n",
              "2  2021-06-21  ...             NaN\n",
              "3  2021-06-22  ...             NaN\n",
              "4  2021-06-23  ...             NaN\n",
              "\n",
              "[5 rows x 10 columns]"
            ]
          },
          "metadata": {
            "tags": []
          },
          "execution_count": 101
        }
      ]
    },
    {
      "cell_type": "code",
      "metadata": {
        "colab": {
          "base_uri": "https://localhost:8080/"
        },
        "id": "_GkyUnQ98cgx",
        "outputId": "a51aaf2f-e23b-422e-8e9b-5546f6c1d84f"
      },
      "source": [
        "df.columns"
      ],
      "execution_count": 72,
      "outputs": [
        {
          "output_type": "execute_result",
          "data": {
            "text/plain": [
              "Index(['date', 'location', 'new_cases', 'new_deaths', 'total_cases',\n",
              "       'total_deaths', 'weekly_cases', 'weekly_deaths', 'biweekly_cases',\n",
              "       'biweekly_deaths'],\n",
              "      dtype='object')"
            ]
          },
          "metadata": {
            "tags": []
          },
          "execution_count": 72
        }
      ]
    },
    {
      "cell_type": "code",
      "metadata": {
        "colab": {
          "base_uri": "https://localhost:8080/",
          "height": 205
        },
        "id": "nGLJY0u14SVk",
        "outputId": "5d8c2502-5c62-4af2-bad6-7ea8a428a0d1"
      },
      "source": [
        "df.head()"
      ],
      "execution_count": 105,
      "outputs": [
        {
          "output_type": "execute_result",
          "data": {
            "text/html": [
              "<div>\n",
              "<style scoped>\n",
              "    .dataframe tbody tr th:only-of-type {\n",
              "        vertical-align: middle;\n",
              "    }\n",
              "\n",
              "    .dataframe tbody tr th {\n",
              "        vertical-align: top;\n",
              "    }\n",
              "\n",
              "    .dataframe thead th {\n",
              "        text-align: right;\n",
              "    }\n",
              "</style>\n",
              "<table border=\"1\" class=\"dataframe\">\n",
              "  <thead>\n",
              "    <tr style=\"text-align: right;\">\n",
              "      <th></th>\n",
              "      <th>date</th>\n",
              "      <th>location</th>\n",
              "      <th>new_cases</th>\n",
              "      <th>new_deaths</th>\n",
              "      <th>total_cases</th>\n",
              "      <th>total_deaths</th>\n",
              "      <th>weekly_cases</th>\n",
              "      <th>weekly_deaths</th>\n",
              "      <th>biweekly_cases</th>\n",
              "      <th>biweekly_deaths</th>\n",
              "    </tr>\n",
              "  </thead>\n",
              "  <tbody>\n",
              "    <tr>\n",
              "      <th>69</th>\n",
              "      <td>2020-03-22</td>\n",
              "      <td>Afghanistan</td>\n",
              "      <td>4.0</td>\n",
              "      <td>1.0</td>\n",
              "      <td>34.0</td>\n",
              "      <td>1.0</td>\n",
              "      <td>18.0</td>\n",
              "      <td>1.0</td>\n",
              "      <td>29.0</td>\n",
              "      <td>1.0</td>\n",
              "    </tr>\n",
              "    <tr>\n",
              "      <th>70</th>\n",
              "      <td>2020-03-23</td>\n",
              "      <td>Afghanistan</td>\n",
              "      <td>7.0</td>\n",
              "      <td>0.0</td>\n",
              "      <td>41.0</td>\n",
              "      <td>1.0</td>\n",
              "      <td>23.0</td>\n",
              "      <td>1.0</td>\n",
              "      <td>34.0</td>\n",
              "      <td>1.0</td>\n",
              "    </tr>\n",
              "    <tr>\n",
              "      <th>71</th>\n",
              "      <td>2020-03-24</td>\n",
              "      <td>Afghanistan</td>\n",
              "      <td>2.0</td>\n",
              "      <td>0.0</td>\n",
              "      <td>43.0</td>\n",
              "      <td>1.0</td>\n",
              "      <td>23.0</td>\n",
              "      <td>1.0</td>\n",
              "      <td>35.0</td>\n",
              "      <td>1.0</td>\n",
              "    </tr>\n",
              "    <tr>\n",
              "      <th>72</th>\n",
              "      <td>2020-03-25</td>\n",
              "      <td>Afghanistan</td>\n",
              "      <td>33.0</td>\n",
              "      <td>1.0</td>\n",
              "      <td>76.0</td>\n",
              "      <td>2.0</td>\n",
              "      <td>52.0</td>\n",
              "      <td>2.0</td>\n",
              "      <td>65.0</td>\n",
              "      <td>2.0</td>\n",
              "    </tr>\n",
              "    <tr>\n",
              "      <th>73</th>\n",
              "      <td>2020-03-26</td>\n",
              "      <td>Afghanistan</td>\n",
              "      <td>4.0</td>\n",
              "      <td>1.0</td>\n",
              "      <td>80.0</td>\n",
              "      <td>3.0</td>\n",
              "      <td>55.0</td>\n",
              "      <td>3.0</td>\n",
              "      <td>68.0</td>\n",
              "      <td>3.0</td>\n",
              "    </tr>\n",
              "  </tbody>\n",
              "</table>\n",
              "</div>"
            ],
            "text/plain": [
              "          date     location  ...  biweekly_cases  biweekly_deaths\n",
              "69  2020-03-22  Afghanistan  ...            29.0              1.0\n",
              "70  2020-03-23  Afghanistan  ...            34.0              1.0\n",
              "71  2020-03-24  Afghanistan  ...            35.0              1.0\n",
              "72  2020-03-25  Afghanistan  ...            65.0              2.0\n",
              "73  2020-03-26  Afghanistan  ...            68.0              3.0\n",
              "\n",
              "[5 rows x 10 columns]"
            ]
          },
          "metadata": {
            "tags": []
          },
          "execution_count": 105
        }
      ]
    },
    {
      "cell_type": "markdown",
      "metadata": {
        "id": "rzcyqAgJW-QA"
      },
      "source": [
        "FbProphet to forecast the number of cases for the next 30 days and\n",
        "plotting the graph for the same."
      ]
    },
    {
      "cell_type": "code",
      "metadata": {
        "id": "EndgIOS5HG6v"
      },
      "source": [
        "df = df.rename(columns = {'date': 'ds', 'total_cases':'y'})"
      ],
      "execution_count": 108,
      "outputs": []
    },
    {
      "cell_type": "code",
      "metadata": {
        "colab": {
          "base_uri": "https://localhost:8080/"
        },
        "id": "MLGB_absF1Xn",
        "outputId": "f976d0d2-d6a2-40c8-c306-e173a867aeea"
      },
      "source": [
        "m = Prophet()\n",
        "m.fit(df)"
      ],
      "execution_count": 109,
      "outputs": [
        {
          "output_type": "stream",
          "text": [
            "INFO:fbprophet:Disabling yearly seasonality. Run prophet with yearly_seasonality=True to override this.\n",
            "INFO:fbprophet:Disabling daily seasonality. Run prophet with daily_seasonality=True to override this.\n"
          ],
          "name": "stderr"
        },
        {
          "output_type": "execute_result",
          "data": {
            "text/plain": [
              "<fbprophet.forecaster.Prophet at 0x7fa2e36c4310>"
            ]
          },
          "metadata": {
            "tags": []
          },
          "execution_count": 109
        }
      ]
    },
    {
      "cell_type": "code",
      "metadata": {
        "colab": {
          "base_uri": "https://localhost:8080/"
        },
        "id": "hvOABOX5HrsX",
        "outputId": "0257bba6-b1a6-4a44-d383-40c9f3efc02d"
      },
      "source": [
        "future = m.make_future_dataframe(periods = 30)\n",
        "forecast = m.predict(future)\n",
        "print(forecast.tail())"
      ],
      "execution_count": 112,
      "outputs": [
        {
          "output_type": "stream",
          "text": [
            "            ds         trend  ...  multiplicative_terms_upper          yhat\n",
            "568 2021-08-25  3.488929e+06  ...                         0.0  3.488464e+06\n",
            "569 2021-08-26  3.497465e+06  ...                         0.0  3.497427e+06\n",
            "570 2021-08-27  3.506001e+06  ...                         0.0  3.506846e+06\n",
            "571 2021-08-28  3.514537e+06  ...                         0.0  3.515878e+06\n",
            "572 2021-08-29  3.523073e+06  ...                         0.0  3.523124e+06\n",
            "\n",
            "[5 rows x 16 columns]\n"
          ],
          "name": "stdout"
        }
      ]
    },
    {
      "cell_type": "code",
      "metadata": {
        "colab": {
          "base_uri": "https://localhost:8080/",
          "height": 205
        },
        "id": "Dc_PsoNoF9fI",
        "outputId": "229daa62-fde4-438f-cd6e-b86b19703071"
      },
      "source": [
        "forecast = m.predict(future)\n",
        "forecast[['ds']].tail()"
      ],
      "execution_count": 114,
      "outputs": [
        {
          "output_type": "execute_result",
          "data": {
            "text/html": [
              "<div>\n",
              "<style scoped>\n",
              "    .dataframe tbody tr th:only-of-type {\n",
              "        vertical-align: middle;\n",
              "    }\n",
              "\n",
              "    .dataframe tbody tr th {\n",
              "        vertical-align: top;\n",
              "    }\n",
              "\n",
              "    .dataframe thead th {\n",
              "        text-align: right;\n",
              "    }\n",
              "</style>\n",
              "<table border=\"1\" class=\"dataframe\">\n",
              "  <thead>\n",
              "    <tr style=\"text-align: right;\">\n",
              "      <th></th>\n",
              "      <th>ds</th>\n",
              "    </tr>\n",
              "  </thead>\n",
              "  <tbody>\n",
              "    <tr>\n",
              "      <th>568</th>\n",
              "      <td>2021-08-25</td>\n",
              "    </tr>\n",
              "    <tr>\n",
              "      <th>569</th>\n",
              "      <td>2021-08-26</td>\n",
              "    </tr>\n",
              "    <tr>\n",
              "      <th>570</th>\n",
              "      <td>2021-08-27</td>\n",
              "    </tr>\n",
              "    <tr>\n",
              "      <th>571</th>\n",
              "      <td>2021-08-28</td>\n",
              "    </tr>\n",
              "    <tr>\n",
              "      <th>572</th>\n",
              "      <td>2021-08-29</td>\n",
              "    </tr>\n",
              "  </tbody>\n",
              "</table>\n",
              "</div>"
            ],
            "text/plain": [
              "            ds\n",
              "568 2021-08-25\n",
              "569 2021-08-26\n",
              "570 2021-08-27\n",
              "571 2021-08-28\n",
              "572 2021-08-29"
            ]
          },
          "metadata": {
            "tags": []
          },
          "execution_count": 114
        }
      ]
    },
    {
      "cell_type": "code",
      "metadata": {
        "colab": {
          "base_uri": "https://localhost:8080/",
          "height": 441
        },
        "id": "JGV_3I7jGkZP",
        "outputId": "26847e56-419b-473f-bd84-6a94e2358289"
      },
      "source": [
        "fig1 = m.plot(forecast)\n"
      ],
      "execution_count": 115,
      "outputs": [
        {
          "output_type": "display_data",
          "data": {
            "image/png": "[encoded data removed]",
            "text/plain": [
              "<Figure size 720x432 with 1 Axes>"
            ]
          },
          "metadata": {
            "tags": []
          }
        }
      ]
    },
    {
      "cell_type": "code",
      "metadata": {
        "colab": {
          "base_uri": "https://localhost:8080/",
          "height": 441
        },
        "id": "DC0jvIn3JVUt",
        "outputId": "e643b8ae-cb3e-4d9d-c88e-68fbd2e5e9fd"
      },
      "source": [
        "fig2 = m.plot_components(forecast)"
      ],
      "execution_count": 116,
      "outputs": [
        {
          "output_type": "display_data",
          "data": {
            "image/png": "[encoded data removed]",
            "text/plain": [
              "<Figure size 648x432 with 2 Axes>"
            ]
          },
          "metadata": {
            "tags": []
          }
        }
      ]
    },
    {
      "cell_type": "markdown",
      "metadata": {
        "id": "qa7ga2RpXNX3"
      },
      "source": [
        "Using Matplotlib/Seaborn to plot the monthly trend."
      ]
    },
    {
      "cell_type": "code",
      "metadata": {
        "id": "XVxE_sIwJsHG"
      },
      "source": [
        "import matplotlib.pyplot as plt\n",
        "%matplotlib inline\n",
        "import seaborn as sns"
      ],
      "execution_count": 130,
      "outputs": []
    },
    {
      "cell_type": "code",
      "metadata": {
        "colab": {
          "base_uri": "https://localhost:8080/",
          "height": 205
        },
        "id": "khHHexhcLfGo",
        "outputId": "e38990ad-8017-4593-da26-59d0bddefc51"
      },
      "source": [
        "df.head()"
      ],
      "execution_count": 123,
      "outputs": [
        {
          "output_type": "execute_result",
          "data": {
            "text/html": [
              "<div>\n",
              "<style scoped>\n",
              "    .dataframe tbody tr th:only-of-type {\n",
              "        vertical-align: middle;\n",
              "    }\n",
              "\n",
              "    .dataframe tbody tr th {\n",
              "        vertical-align: top;\n",
              "    }\n",
              "\n",
              "    .dataframe thead th {\n",
              "        text-align: right;\n",
              "    }\n",
              "</style>\n",
              "<table border=\"1\" class=\"dataframe\">\n",
              "  <thead>\n",
              "    <tr style=\"text-align: right;\">\n",
              "      <th></th>\n",
              "      <th>ds</th>\n",
              "      <th>location</th>\n",
              "      <th>new_cases</th>\n",
              "      <th>new_deaths</th>\n",
              "      <th>y</th>\n",
              "      <th>total_deaths</th>\n",
              "      <th>weekly_cases</th>\n",
              "      <th>weekly_deaths</th>\n",
              "      <th>biweekly_cases</th>\n",
              "      <th>biweekly_deaths</th>\n",
              "    </tr>\n",
              "  </thead>\n",
              "  <tbody>\n",
              "    <tr>\n",
              "      <th>69</th>\n",
              "      <td>2020-03-22</td>\n",
              "      <td>Afghanistan</td>\n",
              "      <td>4.0</td>\n",
              "      <td>1.0</td>\n",
              "      <td>34.0</td>\n",
              "      <td>1.0</td>\n",
              "      <td>18.0</td>\n",
              "      <td>1.0</td>\n",
              "      <td>29.0</td>\n",
              "      <td>1.0</td>\n",
              "    </tr>\n",
              "    <tr>\n",
              "      <th>70</th>\n",
              "      <td>2020-03-23</td>\n",
              "      <td>Afghanistan</td>\n",
              "      <td>7.0</td>\n",
              "      <td>0.0</td>\n",
              "      <td>41.0</td>\n",
              "      <td>1.0</td>\n",
              "      <td>23.0</td>\n",
              "      <td>1.0</td>\n",
              "      <td>34.0</td>\n",
              "      <td>1.0</td>\n",
              "    </tr>\n",
              "    <tr>\n",
              "      <th>71</th>\n",
              "      <td>2020-03-24</td>\n",
              "      <td>Afghanistan</td>\n",
              "      <td>2.0</td>\n",
              "      <td>0.0</td>\n",
              "      <td>43.0</td>\n",
              "      <td>1.0</td>\n",
              "      <td>23.0</td>\n",
              "      <td>1.0</td>\n",
              "      <td>35.0</td>\n",
              "      <td>1.0</td>\n",
              "    </tr>\n",
              "    <tr>\n",
              "      <th>72</th>\n",
              "      <td>2020-03-25</td>\n",
              "      <td>Afghanistan</td>\n",
              "      <td>33.0</td>\n",
              "      <td>1.0</td>\n",
              "      <td>76.0</td>\n",
              "      <td>2.0</td>\n",
              "      <td>52.0</td>\n",
              "      <td>2.0</td>\n",
              "      <td>65.0</td>\n",
              "      <td>2.0</td>\n",
              "    </tr>\n",
              "    <tr>\n",
              "      <th>73</th>\n",
              "      <td>2020-03-26</td>\n",
              "      <td>Afghanistan</td>\n",
              "      <td>4.0</td>\n",
              "      <td>1.0</td>\n",
              "      <td>80.0</td>\n",
              "      <td>3.0</td>\n",
              "      <td>55.0</td>\n",
              "      <td>3.0</td>\n",
              "      <td>68.0</td>\n",
              "      <td>3.0</td>\n",
              "    </tr>\n",
              "  </tbody>\n",
              "</table>\n",
              "</div>"
            ],
            "text/plain": [
              "            ds     location  ...  biweekly_cases  biweekly_deaths\n",
              "69  2020-03-22  Afghanistan  ...            29.0              1.0\n",
              "70  2020-03-23  Afghanistan  ...            34.0              1.0\n",
              "71  2020-03-24  Afghanistan  ...            35.0              1.0\n",
              "72  2020-03-25  Afghanistan  ...            65.0              2.0\n",
              "73  2020-03-26  Afghanistan  ...            68.0              3.0\n",
              "\n",
              "[5 rows x 10 columns]"
            ]
          },
          "metadata": {
            "tags": []
          },
          "execution_count": 123
        }
      ]
    },
    {
      "cell_type": "code",
      "metadata": {
        "colab": {
          "base_uri": "https://localhost:8080/",
          "height": 482
        },
        "id": "db9LqcsdNTm1",
        "outputId": "4f1daa2d-c27e-4e10-e3b5-53e0630738ba"
      },
      "source": [
        "plt.figure(figsize = (20,7))\n",
        "sns.lineplot(data = df['ds'], label = 'ds', marker = 'o')"
      ],
      "execution_count": 133,
      "outputs": [
        {
          "output_type": "stream",
          "text": [
            "INFO:matplotlib.category:Using categorical units to plot a list of strings that are all parsable as floats or dates. If these strings should be plotted as numbers, cast to the appropriate data type before plotting.\n",
            "INFO:matplotlib.category:Using categorical units to plot a list of strings that are all parsable as floats or dates. If these strings should be plotted as numbers, cast to the appropriate data type before plotting.\n"
          ],
          "name": "stderr"
        },
        {
          "output_type": "execute_result",
          "data": {
            "text/plain": [
              "<matplotlib.axes._subplots.AxesSubplot at 0x7fa2d919a3d0>"
            ]
          },
          "metadata": {
            "tags": []
          },
          "execution_count": 133
        },
        {
          "output_type": "display_data",
          "data": {
            "image/png": "[encoded data removed]",
            "text/plain": [
              "<Figure size 1440x504 with 1 Axes>"
            ]
          },
          "metadata": {
            "tags": [],
            "needs_background": "light"
          }
        }
      ]
    },
    {
      "cell_type": "code",
      "metadata": {
        "colab": {
          "base_uri": "https://localhost:8080/",
          "height": 218
        },
        "id": "X75Wf_9YPOGs",
        "outputId": "59481477-b2a6-4ab4-92dc-b4d93a88c799"
      },
      "source": [
        "fig, ax = plt.subplots(figsize = (8,2))\n",
        "cases = df[df['ds'] == '2020-09-01']\n",
        "ax = sns.heatmap(cases[['ds','new_cases']].set_index('ds').T)"
      ],
      "execution_count": 150,
      "outputs": [
        {
          "output_type": "display_data",
          "data": {
            "image/png": "[encoded data removed]",
            "text/plain": [
              "<Figure size 576x144 with 2 Axes>"
            ]
          },
          "metadata": {
            "tags": [],
            "needs_background": "light"
          }
        }
      ]
    },
    {
      "cell_type": "code",
      "metadata": {
        "colab": {
          "base_uri": "https://localhost:8080/",
          "height": 345
        },
        "id": "qUjDhyJPTfsA",
        "outputId": "456e2f6f-e4c9-4147-841b-10431e248018"
      },
      "source": [
        "df = pd.DataFrame({'ds': ['2020-09-01', '2020-10-01',\n",
        "                          '2020-11-01','2020-12-01',\n",
        "                          '2021-01-01','2021-02-01'\n",
        "                          '2021-03-01','2021-04-01',\n",
        "                          '2021-05-01','2021-06-01',\n",
        "                          '2021-07-01'],\n",
        "                   'new_cases':[1000,1000,\n",
        "                                1000,1000,\n",
        "                                1000,1000,\n",
        "                                1000,1000,\n",
        "                                1000,1000,]\n",
        "                     })\n",
        "\n",
        "sns.lineplot(x = \"ds\", y = \"new_cases\", data = df)\n",
        "sns.lineplot(x = \"ds\", y = \"new_cases\", data = df)\n",
        "plt.ylabel(\"Col_1 and Col_2\")\n",
        "plt.xticks(rotation = 25)"
      ],
      "execution_count": 161,
      "outputs": [
        {
          "output_type": "execute_result",
          "data": {
            "text/plain": [
              "([0, 1, 2, 3, 4, 5, 6, 7, 8, 9], <a list of 10 Text major ticklabel objects>)"
            ]
          },
          "metadata": {
            "tags": []
          },
          "execution_count": 161
        },
        {
          "output_type": "display_data",
          "data": {
            "image/png": "[encoded data removed]",
            "text/plain": [
              "<Figure size 432x288 with 1 Axes>"
            ]
          },
          "metadata": {
            "tags": [],
            "needs_background": "light"
          }
        }
      ]
    },
    {
      "cell_type": "code",
      "metadata": {
        "id": "rNtugKOcUtDQ"
      },
      "source": [
        ""
      ],
      "execution_count": null,
      "outputs": []
    }
  ]
}